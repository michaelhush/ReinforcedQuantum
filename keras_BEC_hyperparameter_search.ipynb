{
 "cells": [
  {
   "cell_type": "code",
   "execution_count": 12,
   "metadata": {
    "collapsed": true
   },
   "outputs": [],
   "source": [
    "import numpy as np\n",
    "from keras import layers\n",
    "from keras import metrics\n",
    "from keras.layers import Input, Add, Dense, Activation, Dropout, BatchNormalization\n",
    "from keras.models import Model, load_model, Sequential\n",
    "from keras.optimizers import SGD, Adam\n",
    "from keras.preprocessing import image\n",
    "from keras.utils import layer_utils\n",
    "from keras.utils.data_utils import get_file\n",
    "from keras.applications.imagenet_utils import preprocess_input\n",
    "from IPython.display import SVG\n",
    "from keras.utils.vis_utils import model_to_dot\n",
    "from keras.utils import plot_model\n",
    "from keras.initializers import glorot_uniform\n",
    "import scipy.misc\n",
    "from keras.wrappers.scikit_learn import KerasClassifier\n",
    "from sklearn.model_selection import GridSearchCV\n",
    "from sklearn.model_selection import train_test_split\n",
    "import matplotlib.pyplot as plt\n",
    "from matplotlib.pyplot import imshow\n",
    "import keras.backend as K\n",
    "from pandas import DataFrame\n",
    "\n",
    "%matplotlib inline\n"
   ]
  },
  {
   "cell_type": "code",
   "execution_count": 2,
   "metadata": {
    "collapsed": true
   },
   "outputs": [],
   "source": [
    "# load dataset\n",
    "#parameters0 = np.loadtxt(\"C:\\\\Users\\\\Me\\\\Downloads\\\\BEC_data\\\\01MachineLearningNoMinUncert\\\\parameters.csv\", delimiter=\",\")\n",
    "# The first dataset contained 16 parameters, we will remove the 10 additional compared to the other days\n",
    "#parameters0 = parameters0[:,[0,1,5,6,10,11]]\n",
    "#dataset0 = np.loadtxt(\"C:\\\\Users\\\\Me\\\\Downloads\\\\BEC_data\\\\01MachineLearningNoMinUncert\\\\atom87_2\\\\combined.csv\", delimiter=\",\")\n",
    "parameters1 = np.loadtxt(\"C:\\\\Users\\\\Me\\\\Downloads\\\\BEC_data\\\\01MachineTheta5\\\\parameters.csv\", delimiter=\",\")\n",
    "dataset1 = np.loadtxt(\"C:\\\\Users\\\\Me\\\\Downloads\\\\BEC_data\\\\01MachineTheta5\\\\atom87\\\\combined.csv\", delimiter=\",\")\n",
    "# Remove parameters from day 1 that had a difference image size\n",
    "parameters1 = parameters1[38:,:]\n",
    "parameters2 = np.loadtxt(\"C:\\\\Users\\\\Me\\\\Downloads\\\\BEC_data\\\\02neldermead\\\\parameters.csv\", delimiter=\",\")\n",
    "dataset2 = np.loadtxt(\"C:\\\\Users\\\\Me\\\\Downloads\\\\BEC_data\\\\02neldermead\\\\atom87\\\\combined.csv\", delimiter=\",\")\n",
    "#parameters3 = np.loadtxt(\"C:\\\\Users\\\\Me\\\\Downloads\\\\BEC_data\\\\03MachineTheta10\\\\parameters.csv\", delimiter=\",\")\n",
    "#dataset3 = np.loadtxt(\"C:\\\\Users\\\\Me\\\\Downloads\\\\BEC_data\\\\03MachineTheta10\\\\atom87\\\\combined.csv\", delimiter=\",\")\n",
    "#parameters4 = np.loadtxt(\"C:\\\\Users\\\\Me\\\\Downloads\\\\BEC_data\\\\04MachineTheta10Param7\\\\parameters.csv\", delimiter=\",\")\n",
    "# Days 4 and 5 used an additional 7th parameter, which we'll remove\n",
    "#parameters4 = parameters4[:, [0,1,2,3,4,5]]\n",
    "#dataset4 = np.loadtxt(\"C:\\\\Users\\\\Me\\\\Downloads\\\\BEC_data\\\\04MachineTheta10Param7\\\\atom87\\\\combined.csv\", delimiter=\",\")\n",
    "#parameters5 = np.loadtxt(\"C:\\\\Users\\\\Me\\\\Downloads\\\\BEC_data\\\\01MachineTheta5\\\\parameters.csv\", delimiter=\",\")\n",
    "#parameters5 = parameters5[:, [0,1,2,3,4,5]]\n",
    "#dataset5 = np.loadtxt(\"C:\\\\Users\\\\Me\\\\Downloads\\\\BEC_data\\\\01MachineTheta5\\\\atom87\\\\combined.csv\", delimiter=\",\")\n",
    "parameters = np.concatenate((parameters1, parameters2), axis=0)\n",
    "dataset = np.concatenate((dataset1, dataset2), axis=0)\n",
    "# split into input (X) and output (Y) variables\n",
    "X_train, X_test, Y_train, Y_test = train_test_split(parameters, dataset, test_size=0.1)"
   ]
  },
  {
   "cell_type": "code",
   "execution_count": 3,
   "metadata": {
    "collapsed": true
   },
   "outputs": [],
   "source": [
    "def neg_mean_absolute_error(y_true, y_pred):\n",
    "    return K.mean(y_pred)"
   ]
  },
  {
   "cell_type": "code",
   "execution_count": 21,
   "metadata": {
    "collapsed": true
   },
   "outputs": [],
   "source": [
    "# create model\n",
    "def create_model(input_size, layer_sizes, layer_activation='relu', loss_function='mean_squared_error', final_activation='sigmoid', learning_rate=0.0001, residual=0, dropout=0, drop_rate=0.1):\n",
    "    # This function creates and returns a model of a network based on the input parameters provided\n",
    "    # input_size is the number of input parameters to the network\n",
    "    # layer_sizes is an array with each number specifying the number of neurons in each successive layer\n",
    "    # layer_activation is the activation function to use on each hidden layer of the network. Default is relu.\n",
    "    # loss_function is the loss function to use to optimise the network\n",
    "    # final_activation is the activation function to use on the output layer of the network\n",
    "    # learning_rate is the learning rate for the optimiser\n",
    "    # residual is not yet implemented\n",
    "    # dropout specifies whether to use dropout (0=no, 1=yes)\n",
    "    # drop_rate is the rate of dropout to apply if dropout=1\n",
    "    \n",
    "    num_layers = len(layer_sizes)\n",
    "    \n",
    "    # create the input tensor and add batch normalisation\n",
    "    inputs = Input(shape=(input_size,))\n",
    "    x = BatchNormalization(input_shape=(input_size,))(inputs)\n",
    "       \n",
    "    # The first layer\n",
    "    x = Dense(layer_sizes[0], activation=layer_activation, kernel_initializer='TruncatedNormal',\n",
    "                bias_initializer='zeros')(x)\n",
    "    \n",
    "    #Then loop over the intermediate layers\n",
    "    for layer in range(1,(num_layers-1)):\n",
    "        if residual:\n",
    "            #Not yet implimented\n",
    "            #x = res_block(x, layer_sizes[layer])\n",
    "            None\n",
    "        else:\n",
    "            x = Dense(layer_sizes[layer], activation=layer_activation, kernel_initializer='TruncatedNormal',\n",
    "                bias_initializer='zeros')(x)\n",
    "            if dropout:\n",
    "                x = Dropout(drop_rate)(x)\n",
    "            \n",
    "    #Then add the final output layer\n",
    "    x = Dense(layer_sizes[num_layers-1], activation=final_activation, kernel_initializer='TruncatedNormal', bias_initializer='zeros')(x)\n",
    "    \n",
    "    #Convert into a model\n",
    "    model = Model(inputs=inputs, outputs=x)\n",
    "    \n",
    "    #And compile the model\n",
    "    opt = Adam(lr=learning_rate, beta_1=0.9, beta_2=0.999, epsilon=1e-08, decay=0.0)\n",
    "    model.compile(loss=loss_function, optimizer=opt, metrics=['accuracy'])        \n",
    "    \n",
    "    return model"
   ]
  },
  {
   "cell_type": "code",
   "execution_count": 22,
   "metadata": {
    "collapsed": true
   },
   "outputs": [],
   "source": [
    "# Define the wrapper\n",
    "model = KerasClassifier(build_fn=create_model, input_size=6, epochs=5)"
   ]
  },
  {
   "cell_type": "code",
   "execution_count": 30,
   "metadata": {
    "scrolled": true
   },
   "outputs": [
    {
     "name": "stdout",
     "output_type": "stream",
     "text": [
      "Epoch 1/5\n",
      "233/233 [==============================] - 23s - loss: 0.1978 - acc: 0.0000e+00    \n",
      "Epoch 2/5\n",
      "233/233 [==============================] - 19s - loss: 0.1975 - acc: 0.0000e+00    \n",
      "Epoch 3/5\n",
      "233/233 [==============================] - 18s - loss: 0.1970 - acc: 0.0000e+00    \n",
      "Epoch 4/5\n",
      "233/233 [==============================] - 19s - loss: 0.1951 - acc: 0.0000e+00    \n",
      "Epoch 5/5\n",
      "233/233 [==============================] - 19s - loss: 0.1911 - acc: 0.0000e+00    \n",
      "117/117 [==============================] - 1s     \n",
      "233/233 [==============================] - 2s     \n",
      "Epoch 1/5\n",
      "233/233 [==============================] - 23s - loss: 0.1311 - acc: 0.0000e+00    \n",
      "Epoch 2/5\n",
      "233/233 [==============================] - 18s - loss: 0.1310 - acc: 0.0000e+00    \n",
      "Epoch 3/5\n",
      "233/233 [==============================] - 18s - loss: 0.1309 - acc: 0.0000e+00    \n",
      "Epoch 4/5\n",
      "233/233 [==============================] - 19s - loss: 0.1308 - acc: 0.0000e+00    \n",
      "Epoch 5/5\n",
      "233/233 [==============================] - 18s - loss: 0.1303 - acc: 0.0000e+00    \n",
      "117/117 [==============================] - 1s     \n",
      "233/233 [==============================] - 2s     \n",
      "Epoch 1/5\n",
      "234/234 [==============================] - 24s - loss: 0.2050 - acc: 0.0000e+00    \n",
      "Epoch 2/5\n",
      "234/234 [==============================] - 19s - loss: 0.2048 - acc: 0.0000e+00    \n",
      "Epoch 3/5\n",
      "234/234 [==============================] - 19s - loss: 0.2043 - acc: 0.0000e+00    \n",
      "Epoch 4/5\n",
      "234/234 [==============================] - 19s - loss: 0.2032 - acc: 0.0000e+00    \n",
      "Epoch 5/5\n",
      "234/234 [==============================] - 18s - loss: 0.2001 - acc: 0.0000e+00    \n",
      "116/116 [==============================] - 1s     \n",
      "234/234 [==============================] - 2s     \n",
      "Epoch 1/5\n",
      "233/233 [==============================] - 6s - loss: 0.1966 - acc: 0.0000e+00     \n",
      "Epoch 2/5\n",
      "233/233 [==============================] - 4s - loss: 0.1889 - acc: 0.0000e+00     \n",
      "Epoch 3/5\n",
      "233/233 [==============================] - 4s - loss: 0.1813 - acc: 0.0000e+00     \n",
      "Epoch 4/5\n",
      "233/233 [==============================] - 4s - loss: 0.1748 - acc: 0.0000e+00     \n",
      "Epoch 5/5\n",
      "233/233 [==============================] - 4s - loss: 0.1690 - acc: 0.0000e+00     \n",
      "117/117 [==============================] - 0s     \n",
      "233/233 [==============================] - 0s     \n",
      "Epoch 1/5\n",
      "233/233 [==============================] - 7s - loss: 0.1321 - acc: 0.0000e+00     \n",
      "Epoch 2/5\n",
      "233/233 [==============================] - 5s - loss: 0.1286 - acc: 0.0000e+00     \n",
      "Epoch 3/5\n",
      "233/233 [==============================] - 4s - loss: 0.1265 - acc: 0.0000e+00     \n",
      "Epoch 4/5\n",
      "233/233 [==============================] - 5s - loss: 0.1247 - acc: 0.0043         \n",
      "Epoch 5/5\n",
      "233/233 [==============================] - 4s - loss: 0.1232 - acc: 0.0000e+00     \n",
      "117/117 [==============================] - 0s     \n",
      "233/233 [==============================] - 0s     \n",
      "Epoch 1/5\n",
      "234/234 [==============================] - 6s - loss: 0.2030 - acc: 0.0000e+00     \n",
      "Epoch 2/5\n",
      "234/234 [==============================] - 5s - loss: 0.1927 - acc: 0.0000e+00     \n",
      "Epoch 3/5\n",
      "234/234 [==============================] - 5s - loss: 0.1838 - acc: 0.0000e+00     \n",
      "Epoch 4/5\n",
      "234/234 [==============================] - 4s - loss: 0.1764 - acc: 0.0000e+00     \n",
      "Epoch 5/5\n",
      "234/234 [==============================] - 5s - loss: 0.1691 - acc: 0.0000e+00     \n",
      "116/116 [==============================] - 0s     \n",
      "234/234 [==============================] - 0s     \n",
      "Epoch 1/5\n",
      "350/350 [==============================] - 32s - loss: 0.1780 - acc: 0.0000e+00    \n",
      "Epoch 2/5\n",
      "350/350 [==============================] - 26s - loss: 0.1777 - acc: 0.0000e+00    \n",
      "Epoch 3/5\n",
      "350/350 [==============================] - 26s - loss: 0.1769 - acc: 0.0000e+00    \n",
      "Epoch 4/5\n",
      "350/350 [==============================] - 26s - loss: 0.1739 - acc: 0.0000e+00    \n",
      "Epoch 5/5\n",
      "350/350 [==============================] - 26s - loss: 0.1706 - acc: 0.0000e+00    \n"
     ]
    }
   ],
   "source": [
    "param_grid = dict(layer_sizes=[[6, 16, 32, 64, 128, 1024, 2048, 4096, 31020],[1024, 31020]], loss_function=['mean_absolute_error'], final_activation=['linear'])\n",
    "grid = GridSearchCV(estimator=model, param_grid=param_grid, n_jobs=1, return_train_score=True)\n",
    "grid_result = grid.fit(parameters, dataset)\n",
    "\n",
    "# Create the model, and then fit it\n",
    "#model = create_model(input_size=6, layer_sizes=[6, 16, 32, 64, 128, 256, 512, 1000, 31020], dropout=0, drop_rate=0.1)\n",
    "#model.fit(X_train, Y_train, epochs=30)"
   ]
  },
  {
   "cell_type": "code",
   "execution_count": 31,
   "metadata": {},
   "outputs": [
    {
     "name": "stdout",
     "output_type": "stream",
     "text": [
      "Tuned Parameters: {'final_activation': 'linear', 'layer_sizes': [6, 16, 32, 64, 128, 1024, 2048, 4096, 31020], 'loss_function': 'mean_absolute_error'}\n",
      "Best score is 0.0\n"
     ]
    },
    {
     "data": {
      "text/html": [
       "<div>\n",
       "<style scoped>\n",
       "    .dataframe tbody tr th:only-of-type {\n",
       "        vertical-align: middle;\n",
       "    }\n",
       "\n",
       "    .dataframe tbody tr th {\n",
       "        vertical-align: top;\n",
       "    }\n",
       "\n",
       "    .dataframe thead th {\n",
       "        text-align: right;\n",
       "    }\n",
       "</style>\n",
       "<table border=\"1\" class=\"dataframe\">\n",
       "  <thead>\n",
       "    <tr style=\"text-align: right;\">\n",
       "      <th></th>\n",
       "      <th>mean_fit_time</th>\n",
       "      <th>mean_score_time</th>\n",
       "      <th>mean_test_score</th>\n",
       "      <th>mean_train_score</th>\n",
       "      <th>param_final_activation</th>\n",
       "      <th>param_layer_sizes</th>\n",
       "      <th>param_loss_function</th>\n",
       "      <th>params</th>\n",
       "      <th>rank_test_score</th>\n",
       "      <th>split0_test_score</th>\n",
       "      <th>split0_train_score</th>\n",
       "      <th>split1_test_score</th>\n",
       "      <th>split1_train_score</th>\n",
       "      <th>split2_test_score</th>\n",
       "      <th>split2_train_score</th>\n",
       "      <th>std_fit_time</th>\n",
       "      <th>std_score_time</th>\n",
       "      <th>std_test_score</th>\n",
       "      <th>std_train_score</th>\n",
       "    </tr>\n",
       "  </thead>\n",
       "  <tbody>\n",
       "    <tr>\n",
       "      <th>0</th>\n",
       "      <td>101.810774</td>\n",
       "      <td>1.679880</td>\n",
       "      <td>0.0</td>\n",
       "      <td>0.0</td>\n",
       "      <td>linear</td>\n",
       "      <td>[6, 16, 32, 64, 128, 1024, 2048, 4096, 31020]</td>\n",
       "      <td>mean_absolute_error</td>\n",
       "      <td>{'final_activation': 'linear', 'layer_sizes': ...</td>\n",
       "      <td>1</td>\n",
       "      <td>0.0</td>\n",
       "      <td>0.0</td>\n",
       "      <td>0.0</td>\n",
       "      <td>0.0</td>\n",
       "      <td>0.0</td>\n",
       "      <td>0.0</td>\n",
       "      <td>0.425974</td>\n",
       "      <td>0.043835</td>\n",
       "      <td>0.0</td>\n",
       "      <td>0.0</td>\n",
       "    </tr>\n",
       "    <tr>\n",
       "      <th>1</th>\n",
       "      <td>27.896323</td>\n",
       "      <td>0.944671</td>\n",
       "      <td>0.0</td>\n",
       "      <td>0.0</td>\n",
       "      <td>linear</td>\n",
       "      <td>[1024, 31020]</td>\n",
       "      <td>mean_absolute_error</td>\n",
       "      <td>{'final_activation': 'linear', 'layer_sizes': ...</td>\n",
       "      <td>1</td>\n",
       "      <td>0.0</td>\n",
       "      <td>0.0</td>\n",
       "      <td>0.0</td>\n",
       "      <td>0.0</td>\n",
       "      <td>0.0</td>\n",
       "      <td>0.0</td>\n",
       "      <td>0.933542</td>\n",
       "      <td>0.029776</td>\n",
       "      <td>0.0</td>\n",
       "      <td>0.0</td>\n",
       "    </tr>\n",
       "  </tbody>\n",
       "</table>\n",
       "</div>"
      ],
      "text/plain": [
       "   mean_fit_time  mean_score_time  mean_test_score  mean_train_score  \\\n",
       "0     101.810774         1.679880              0.0               0.0   \n",
       "1      27.896323         0.944671              0.0               0.0   \n",
       "\n",
       "  param_final_activation                              param_layer_sizes  \\\n",
       "0                 linear  [6, 16, 32, 64, 128, 1024, 2048, 4096, 31020]   \n",
       "1                 linear                                  [1024, 31020]   \n",
       "\n",
       "   param_loss_function                                             params  \\\n",
       "0  mean_absolute_error  {'final_activation': 'linear', 'layer_sizes': ...   \n",
       "1  mean_absolute_error  {'final_activation': 'linear', 'layer_sizes': ...   \n",
       "\n",
       "   rank_test_score  split0_test_score  split0_train_score  split1_test_score  \\\n",
       "0                1                0.0                 0.0                0.0   \n",
       "1                1                0.0                 0.0                0.0   \n",
       "\n",
       "   split1_train_score  split2_test_score  split2_train_score  std_fit_time  \\\n",
       "0                 0.0                0.0                 0.0      0.425974   \n",
       "1                 0.0                0.0                 0.0      0.933542   \n",
       "\n",
       "   std_score_time  std_test_score  std_train_score  \n",
       "0        0.043835             0.0              0.0  \n",
       "1        0.029776             0.0              0.0  "
      ]
     },
     "execution_count": 31,
     "metadata": {},
     "output_type": "execute_result"
    }
   ],
   "source": [
    "print(\"Tuned Parameters: {}\".format(grid_result.best_params_))\n",
    "print(\"Best score is {}\".format(grid_result.best_score_))\n",
    "DataFrame(data=grid_result.cv_results_)"
   ]
  },
  {
   "cell_type": "code",
   "execution_count": 10,
   "metadata": {},
   "outputs": [
    {
     "ename": "AttributeError",
     "evalue": "'KerasClassifier' object has no attribute 'model'",
     "output_type": "error",
     "traceback": [
      "\u001b[1;31m---------------------------------------------------------------------------\u001b[0m",
      "\u001b[1;31mAttributeError\u001b[0m                            Traceback (most recent call last)",
      "\u001b[1;32m<ipython-input-10-1e266c09e1fc>\u001b[0m in \u001b[0;36m<module>\u001b[1;34m()\u001b[0m\n\u001b[0;32m      1\u001b[0m \u001b[1;31m# calculate predictions\u001b[0m\u001b[1;33m\u001b[0m\u001b[1;33m\u001b[0m\u001b[0m\n\u001b[1;32m----> 2\u001b[1;33m \u001b[0mpredictions\u001b[0m \u001b[1;33m=\u001b[0m \u001b[0mmodel\u001b[0m\u001b[1;33m.\u001b[0m\u001b[0mpredict\u001b[0m\u001b[1;33m(\u001b[0m\u001b[0mX_test\u001b[0m\u001b[1;33m)\u001b[0m\u001b[1;33m\u001b[0m\u001b[0m\n\u001b[0m\u001b[0;32m      3\u001b[0m \u001b[1;31m# round predictions (if needed)\u001b[0m\u001b[1;33m\u001b[0m\u001b[1;33m\u001b[0m\u001b[0m\n\u001b[0;32m      4\u001b[0m \u001b[0mrounded\u001b[0m \u001b[1;33m=\u001b[0m \u001b[1;33m[\u001b[0m\u001b[0mround\u001b[0m\u001b[1;33m(\u001b[0m\u001b[0mx\u001b[0m\u001b[1;33m[\u001b[0m\u001b[1;36m0\u001b[0m\u001b[1;33m]\u001b[0m\u001b[1;33m)\u001b[0m \u001b[1;32mfor\u001b[0m \u001b[0mx\u001b[0m \u001b[1;32min\u001b[0m \u001b[0mpredictions\u001b[0m\u001b[1;33m]\u001b[0m\u001b[1;33m\u001b[0m\u001b[0m\n\u001b[0;32m      5\u001b[0m \u001b[1;31m# Display a predictd output next to the actual output\u001b[0m\u001b[1;33m\u001b[0m\u001b[1;33m\u001b[0m\u001b[0m\n",
      "\u001b[1;32m~\\Anaconda3\\lib\\site-packages\\keras\\wrappers\\scikit_learn.py\u001b[0m in \u001b[0;36mpredict\u001b[1;34m(self, x, **kwargs)\u001b[0m\n\u001b[0;32m    219\u001b[0m         \"\"\"\n\u001b[0;32m    220\u001b[0m         \u001b[0mkwargs\u001b[0m \u001b[1;33m=\u001b[0m \u001b[0mself\u001b[0m\u001b[1;33m.\u001b[0m\u001b[0mfilter_sk_params\u001b[0m\u001b[1;33m(\u001b[0m\u001b[0mSequential\u001b[0m\u001b[1;33m.\u001b[0m\u001b[0mpredict_classes\u001b[0m\u001b[1;33m,\u001b[0m \u001b[0mkwargs\u001b[0m\u001b[1;33m)\u001b[0m\u001b[1;33m\u001b[0m\u001b[0m\n\u001b[1;32m--> 221\u001b[1;33m         \u001b[0mclasses\u001b[0m \u001b[1;33m=\u001b[0m \u001b[0mself\u001b[0m\u001b[1;33m.\u001b[0m\u001b[0mmodel\u001b[0m\u001b[1;33m.\u001b[0m\u001b[0mpredict_classes\u001b[0m\u001b[1;33m(\u001b[0m\u001b[0mx\u001b[0m\u001b[1;33m,\u001b[0m \u001b[1;33m**\u001b[0m\u001b[0mkwargs\u001b[0m\u001b[1;33m)\u001b[0m\u001b[1;33m\u001b[0m\u001b[0m\n\u001b[0m\u001b[0;32m    222\u001b[0m         \u001b[1;32mreturn\u001b[0m \u001b[0mself\u001b[0m\u001b[1;33m.\u001b[0m\u001b[0mclasses_\u001b[0m\u001b[1;33m[\u001b[0m\u001b[0mclasses\u001b[0m\u001b[1;33m]\u001b[0m\u001b[1;33m\u001b[0m\u001b[0m\n\u001b[0;32m    223\u001b[0m \u001b[1;33m\u001b[0m\u001b[0m\n",
      "\u001b[1;31mAttributeError\u001b[0m: 'KerasClassifier' object has no attribute 'model'"
     ]
    }
   ],
   "source": [
    "# calculate predictions\n",
    "predictions = model.predict(X_test)\n",
    "# round predictions (if needed)\n",
    "rounded = [round(x[0]) for x in predictions]\n",
    "# Display a predictd output next to the actual output\n",
    "im_pred = predictions[1,:].reshape(188,165)\n",
    "im_act = Y_test[1,:].reshape(188,165)\n",
    "plt.gray()\n",
    "f, axarr = plt.subplots(2, sharex=False)\n",
    "axarr[0].imshow(im_pred)\n",
    "axarr[0].set_title('Prediction')\n",
    "axarr[1].imshow(im_act)\n",
    "axarr[1].set_title('Actual')"
   ]
  },
  {
   "cell_type": "code",
   "execution_count": 12,
   "metadata": {},
   "outputs": [
    {
     "data": {
      "text/plain": [
       "<matplotlib.image.AxesImage at 0x1f6100419e8>"
      ]
     },
     "execution_count": 12,
     "metadata": {},
     "output_type": "execute_result"
    },
    {
     "data": {
      "image/png": "[encoded data removed]",
      "text/plain": [
       "<matplotlib.figure.Figure at 0x1f63bc42e10>"
      ]
     },
     "metadata": {},
     "output_type": "display_data"
    }
   ],
   "source": [
    "temp = dataset[100,:].reshape(188,165)\n",
    "imshow(temp)"
   ]
  },
  {
   "cell_type": "code",
   "execution_count": null,
   "metadata": {
    "collapsed": true
   },
   "outputs": [],
   "source": []
  }
 ],
 "metadata": {
  "kernelspec": {
   "display_name": "Python 3",
   "language": "python",
   "name": "python3"
  },
  "language_info": {
   "codemirror_mode": {
    "name": "ipython",
    "version": 3
   },
   "file_extension": ".py",
   "mimetype": "text/x-python",
   "name": "python",
   "nbconvert_exporter": "python",
   "pygments_lexer": "ipython3",
   "version": "3.6.3"
  }
 },
 "nbformat": 4,
 "nbformat_minor": 2
}
